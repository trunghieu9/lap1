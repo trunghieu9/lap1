{
  "cells": [
    {
      "cell_type": "code",
      "execution_count": 2,
      "metadata": {},
      "outputs": [
        {
          "data": {
            "text/plain": [
              "device(type='cpu')"
            ]
          },
          "execution_count": 2,
          "metadata": {},
          "output_type": "execute_result"
        }
      ],
      "source": [
        "import torch\n",
        "import matplotlib.pyplot as plt\n",
        "import numpy as np\n",
        "from torch.optim import SGD\n",
        "import torch.nn as nn\n",
        "import torchvision\n",
        "from torchvision.transforms import transforms\n",
        "device = torch.device(\"cuda:0\" if torch.cuda.is_available() else \"cpu\")\n",
        "device"
      ]
    },
    {
      "cell_type": "markdown",
      "metadata": {},
      "source": [
        "+ Download dữ liệu CIFAR10 sau đó chia thành 2 tập dữ liệu train và validation.\n",
        "+ Chuẩn hóa dữ liệu với mean = 0.5 và std = 0.5"
      ]
    },
    {
      "cell_type": "code",
      "execution_count": null,
      "metadata": {},
      "outputs": [],
      "source": [
        "transform = \n",
        "trainset = \n",
        "trainloader = \n",
        "testset = \n",
        "testloader = "
      ]
    },
    {
      "cell_type": "markdown",
      "metadata": {},
      "source": [
        "+ Hiển thị 5 ảnh đầu tiên trong tập dữ liệu testing"
      ]
    },
    {
      "cell_type": "code",
      "execution_count": null,
      "metadata": {},
      "outputs": [],
      "source": [
        "def imshow(img):\n",
        "    \n",
        "\n",
        "for i, (images, labels) in enumerate(trainloader, 0):\n",
        "    \n",
        "    break"
      ]
    },
    {
      "cell_type": "markdown",
      "metadata": {},
      "source": [
        "+ Xây dựng model MLP cơ bản để train tập dữ liệu CIFAR10"
      ]
    },
    {
      "cell_type": "code",
      "execution_count": 168,
      "metadata": {},
      "outputs": [],
      "source": [
        "def getModel(n_features):\n",
        "    model = \n",
        "    return model\n"
      ]
    },
    {
      "cell_type": "markdown",
      "metadata": {},
      "source": [
        "+ Khởi tạo hàm loss function và phương thức optimizer"
      ]
    },
    {
      "cell_type": "code",
      "execution_count": null,
      "metadata": {},
      "outputs": [],
      "source": [
        "n_features = \n",
        "model = getModel(n_features)\n",
        "lr = 0.01\n",
        "optim = \n",
        "loss_fn = \n",
        "model"
      ]
    },
    {
      "cell_type": "markdown",
      "metadata": {},
      "source": [
        "+ Xây dựng hàm đánh giá model"
      ]
    },
    {
      "cell_type": "code",
      "execution_count": 171,
      "metadata": {},
      "outputs": [],
      "source": [
        "def evaluate(model, testloader, criterion):\n",
        "    model.eval()\n",
        "    test_loss = 0.0\n",
        "    correct = 0\n",
        "    total = 0\n",
        "    for images, labels in testloader:\n",
        "        images, labels = images.to(device), labels.to(device)\n",
        "\n",
        "        outputs = model(images)\n",
        "        loss = criterion(outputs, labels)\n",
        "        test_loss += loss.item()\n",
        "        \n",
        "        _, predicted = torch.max(outputs.data, 1)\n",
        "        total += labels.size(0)\n",
        "        correct += (predicted == labels).sum().item()\n",
        "\n",
        "    accuracy = 100 * correct / total\n",
        "    test_loss = test_loss / len(testloader)\n",
        "    return test_loss, accuracy\n"
      ]
    },
    {
      "cell_type": "markdown",
      "metadata": {},
      "source": [
        "+ Bắt đầu training và đánh giá model."
      ]
    },
    {
      "cell_type": "code",
      "execution_count": 175,
      "metadata": {},
      "outputs": [
        {
          "name": "stdout",
          "output_type": "stream",
          "text": [
            "Epoch [1/10], Loss: 0.7660, Accuracy: 74.91%, Test Loss: 0.7522, Test Accuracy: 74.97%\n",
            "Epoch [2/10], Loss: 0.7202, Accuracy: 75.88%, Test Loss: 0.7148, Test Accuracy: 75.58%\n",
            "Epoch [3/10], Loss: 0.6869, Accuracy: 76.63%, Test Loss: 0.6870, Test Accuracy: 76.14%\n",
            "Epoch [4/10], Loss: 0.6613, Accuracy: 77.32%, Test Loss: 0.6649, Test Accuracy: 76.82%\n",
            "Epoch [5/10], Loss: 0.6403, Accuracy: 77.97%, Test Loss: 0.6465, Test Accuracy: 77.31%\n",
            "Epoch [6/10], Loss: 0.6228, Accuracy: 78.47%, Test Loss: 0.6307, Test Accuracy: 77.80%\n",
            "Epoch [7/10], Loss: 0.6079, Accuracy: 78.99%, Test Loss: 0.6182, Test Accuracy: 78.27%\n",
            "Epoch [8/10], Loss: 0.5949, Accuracy: 79.48%, Test Loss: 0.6058, Test Accuracy: 78.67%\n",
            "Epoch [9/10], Loss: 0.5837, Accuracy: 79.75%, Test Loss: 0.5962, Test Accuracy: 78.93%\n",
            "Epoch [10/10], Loss: 0.5734, Accuracy: 80.17%, Test Loss: 0.5870, Test Accuracy: 79.21%\n"
          ]
        }
      ],
      "source": [
        "n_epochs = 10\n",
        "train_losses = []\n",
        "train_accuracies = []\n",
        "test_losses = []\n",
        "test_accuracies = []\n",
        "\n",
        "for epoch in range(n_epochs):\n",
        "    running_loss = 0.0\n",
        "    running_correct = 0\n",
        "    total = 0\n",
        "    for i, (inputs, labels) in enumerate(trainloader, 0):\n",
        "        \n",
        "        inputs, labels = inputs.to(device), labels.to(device)\n",
        "\n",
        "\n",
        "\n",
        "        outputs = model(inputs)\n",
        "        loss = loss_fn(outputs, labels)\n",
        "        running_loss += loss.item()\n",
        "\n",
        "\n",
        "        _, predicted = torch.max(outputs.data, 1)\n",
        "        total += labels.size(0)\n",
        "        running_correct += (predicted == labels).sum().item()\n",
        "     \n",
        "\n",
        "    epoch_accuracy = 100 * running_correct / total\n",
        "    epoch_loss = running_loss / (i + 1)\n",
        "    test_loss, test_accuracy = evaluate(model, testloader, loss_fn)\n",
        "    print(f\"Epoch [{epoch + 1}/{n_epochs}], Loss: {epoch_loss:.4f}, Accuracy: {epoch_accuracy:.2f}%, Test Loss: {test_loss:.4f}, Test Accuracy: {test_accuracy:.2f}%\")\n",
        "    \n",
        "    \n",
        "    train_losses.append(epoch_loss)\n",
        "    train_accuracies.append(epoch_accuracy)\n",
        "    test_losses.append(test_loss)\n",
        "    test_accuracies.append(test_accuracy)"
      ]
    },
    {
      "cell_type": "code",
      "execution_count": null,
      "metadata": {},
      "outputs": [],
      "source": [
        "plt.figure(figsize = (20, 5))\n",
        "plt.subplot(121)\n",
        "plt.title('Loss Epochs')\n",
        "plt.plot(train_losses, label = 'Train Loss')\n",
        "plt.plot(test_losses, label = 'Test Loss')\n",
        "plt.legend()\n",
        "plt.subplot(122)\n",
        "plt.title('Accuracy Epoch')\n",
        "plt.plot(test_accuracies, label = 'Test Accuracy')\n",
        "plt.legend()"
      ]
    },
    {
      "cell_type": "markdown",
      "metadata": {},
      "source": [
        "+ Dưới đây là bài tập về code from scratch"
      ]
    },
    {
      "cell_type": "code",
      "execution_count": 75,
      "metadata": {},
      "outputs": [],
      "source": [
        "def zScoreScaling(tensor):"
      ]
    },
    {
      "cell_type": "code",
      "execution_count": 76,
      "metadata": {},
      "outputs": [],
      "source": [
        "def minMaxScaling(tensor):"
      ]
    },
    {
      "cell_type": "code",
      "execution_count": 61,
      "metadata": {},
      "outputs": [],
      "source": [
        "class Linear:\n",
        "    "
      ]
    },
    {
      "cell_type": "code",
      "execution_count": 77,
      "metadata": {},
      "outputs": [
        {
          "name": "stdout",
          "output_type": "stream",
          "text": [
            "tensor([[-1., -1., -1.],\n",
            "        [ 0.,  0.,  0.],\n",
            "        [ 1.,  1.,  1.]])\n",
            "tensor([[0.0000, 0.0000, 0.0000],\n",
            "        [0.5000, 0.5000, 0.5000],\n",
            "        [1.0000, 1.0000, 1.0000]])\n"
          ]
        }
      ],
      "source": [
        "tensor = torch.tensor([\n",
        "    [1.0, 2.0, 3.0], \n",
        "    [4.0, 5.0, 6.0],\n",
        "    [7.0, 8.0, 9.0]\n",
        "])\n",
        "zscore = zScoreScaling(tensor)\n",
        "min_max = minMaxScaling(tensor)\n",
        "print(zscore)\n",
        "print(min_max)\n"
      ]
    },
    {
      "attachments": {
        "image.png": {
          "image/png": "[encoded data removed]"
        }
      },
      "cell_type": "markdown",
      "metadata": {},
      "source": [
        "![image.png](attachment:image.png)"
      ]
    },
    {
      "cell_type": "code",
      "execution_count": null,
      "metadata": {},
      "outputs": [],
      "source": [
        "tensor = torch.tensor([1.0, 2.0, 3.0])\n",
        "linear = Linear(3, 2)\n",
        "out = linear.forward(tensor)\n",
        "print(out)\n",
        "print(f\"Weight = {linear.weight}\")\n",
        "print(f\"Bias = {linear.bias}\")"
      ]
    }
  ],
  "metadata": {
    "colab": {
      "provenance": []
    },
    "kernelspec": {
      "display_name": "Python 3",
      "name": "python3"
    },
    "language_info": {
      "codemirror_mode": {
        "name": "ipython",
        "version": 3
      },
      "file_extension": ".py",
      "mimetype": "text/x-python",
      "name": "python",
      "nbconvert_exporter": "python",
      "pygments_lexer": "ipython3",
      "version": "3.11.9"
    }
  },
  "nbformat": 4,
  "nbformat_minor": 0
}
